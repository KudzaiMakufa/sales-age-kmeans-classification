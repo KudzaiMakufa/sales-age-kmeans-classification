{
 "cells": [
  {
   "cell_type": "code",
   "execution_count": 20,
   "metadata": {},
   "outputs": [],
   "source": [
    "from sklearn.cluster import KMeans\n",
    "import pandas as pd\n",
    "from sklearn.preprocessing import MinMaxScaler\n",
    "from matplotlib import pyplot as plt\n",
    "%matplotlib inline\n"
   ]
  },
  {
   "cell_type": "code",
   "execution_count": 21,
   "metadata": {},
   "outputs": [
    {
     "data": {
      "text/html": [
       "<div>\n",
       "<style scoped>\n",
       "    .dataframe tbody tr th:only-of-type {\n",
       "        vertical-align: middle;\n",
       "    }\n",
       "\n",
       "    .dataframe tbody tr th {\n",
       "        vertical-align: top;\n",
       "    }\n",
       "\n",
       "    .dataframe thead th {\n",
       "        text-align: right;\n",
       "    }\n",
       "</style>\n",
       "<table border=\"1\" class=\"dataframe\">\n",
       "  <thead>\n",
       "    <tr style=\"text-align: right;\">\n",
       "      <th></th>\n",
       "      <th>Date</th>\n",
       "      <th>Name</th>\n",
       "      <th>Sales</th>\n",
       "      <th>Order Number</th>\n",
       "      <th>Age</th>\n",
       "      <th>Gender</th>\n",
       "    </tr>\n",
       "  </thead>\n",
       "  <tbody>\n",
       "    <tr>\n",
       "      <th>0</th>\n",
       "      <td>01/03/2021</td>\n",
       "      <td>Zee Mawere</td>\n",
       "      <td>3599.00</td>\n",
       "      <td>3988</td>\n",
       "      <td>35</td>\n",
       "      <td>M</td>\n",
       "    </tr>\n",
       "    <tr>\n",
       "      <th>1</th>\n",
       "      <td>04/03/2021</td>\n",
       "      <td>Natalie Mill</td>\n",
       "      <td>2999.00</td>\n",
       "      <td>3992</td>\n",
       "      <td>23</td>\n",
       "      <td>F</td>\n",
       "    </tr>\n",
       "    <tr>\n",
       "      <th>2</th>\n",
       "      <td>04/03/2021</td>\n",
       "      <td>Patrick Dodzo</td>\n",
       "      <td>3834.84</td>\n",
       "      <td>3994</td>\n",
       "      <td>45</td>\n",
       "      <td>M</td>\n",
       "    </tr>\n",
       "    <tr>\n",
       "      <th>3</th>\n",
       "      <td>04/03/2021</td>\n",
       "      <td>Shadey White</td>\n",
       "      <td>497.96</td>\n",
       "      <td>3991</td>\n",
       "      <td>29</td>\n",
       "      <td>F</td>\n",
       "    </tr>\n",
       "    <tr>\n",
       "      <th>4</th>\n",
       "      <td>06/03/2021</td>\n",
       "      <td>Bertha Anglo</td>\n",
       "      <td>5996.68</td>\n",
       "      <td>4000</td>\n",
       "      <td>21</td>\n",
       "      <td>F</td>\n",
       "    </tr>\n",
       "  </tbody>\n",
       "</table>\n",
       "</div>"
      ],
      "text/plain": [
       "         Date           Name    Sales  Order Number  Age Gender\n",
       "0  01/03/2021     Zee Mawere  3599.00          3988   35      M\n",
       "1  04/03/2021   Natalie Mill  2999.00          3992   23      F\n",
       "2  04/03/2021  Patrick Dodzo  3834.84          3994   45      M\n",
       "3  04/03/2021   Shadey White   497.96          3991   29      F\n",
       "4  06/03/2021   Bertha Anglo  5996.68          4000   21      F"
      ]
     },
     "execution_count": 21,
     "metadata": {},
     "output_type": "execute_result"
    }
   ],
   "source": [
    "df = pd.read_csv('project1.csv')\n",
    "df.head()"
   ]
  },
  {
   "cell_type": "code",
   "execution_count": 22,
   "metadata": {},
   "outputs": [
    {
     "data": {
      "text/plain": [
       "<matplotlib.collections.PathCollection at 0x254fc822dc8>"
      ]
     },
     "execution_count": 22,
     "metadata": {},
     "output_type": "execute_result"
    },
    {
     "data": {
      "image/png": "[encoded data removed]",
      "text/plain": [
       "<Figure size 432x288 with 1 Axes>"
      ]
     },
     "metadata": {
      "needs_background": "light"
     },
     "output_type": "display_data"
    }
   ],
   "source": [
    "plt.scatter(df['Age'],df['Sales'])"
   ]
  },
  {
   "cell_type": "code",
   "execution_count": 23,
   "metadata": {},
   "outputs": [
    {
     "data": {
      "text/plain": [
       "KMeans(algorithm='auto', copy_x=True, init='k-means++', max_iter=300,\n",
       "       n_clusters=3, n_init=10, n_jobs=None, precompute_distances='auto',\n",
       "       random_state=None, tol=0.0001, verbose=0)"
      ]
     },
     "execution_count": 23,
     "metadata": {},
     "output_type": "execute_result"
    }
   ],
   "source": [
    "km = KMeans(n_clusters=3)\n",
    "km"
   ]
  },
  {
   "cell_type": "code",
   "execution_count": 24,
   "metadata": {},
   "outputs": [
    {
     "data": {
      "text/plain": [
       "array([0, 0, 0, 0, 0, 0, 0, 0, 0, 0, 0, 0, 0, 0, 0, 0, 0, 0, 0, 0, 0, 0,\n",
       "       0, 0, 0, 0, 0, 0, 0, 0, 0, 0, 0, 0, 0, 0, 0, 0, 0, 0, 0, 0, 0, 0,\n",
       "       0, 0, 0, 0, 0, 0, 0, 0, 0, 0, 0, 0, 0, 0, 0, 0, 0, 0, 0, 0, 0, 0,\n",
       "       0, 0, 0, 0, 0, 0, 0, 0, 0, 0, 0, 0, 0, 0, 0, 0, 0, 0, 0, 0, 0, 0,\n",
       "       0, 0, 0, 0, 0, 0, 0, 0, 0, 0, 0, 0, 0, 0, 0, 0, 0, 0, 0, 0, 0, 0,\n",
       "       0, 0, 0, 0, 0, 0, 0, 0, 0, 0, 0, 0, 0, 0, 0, 0, 0, 0, 0, 0, 0, 0,\n",
       "       0, 0, 0, 0, 0, 0, 0, 0, 0, 0, 0, 0, 0, 0, 0, 0, 0, 0, 0, 0, 0, 0,\n",
       "       0, 0, 0, 0, 0, 0, 0, 0, 0, 0, 0, 0, 0, 0, 0, 0, 0, 0, 0, 0, 0, 0,\n",
       "       0, 0, 0, 0, 0, 0, 0, 0, 0, 0, 0, 0, 0, 0, 0, 0, 0, 0, 0, 0, 0, 0,\n",
       "       0, 0, 0, 0, 0, 0, 0, 0, 0, 0, 0, 0, 0, 0, 0, 0, 0, 0, 0, 0, 0, 0,\n",
       "       0, 0, 0, 0, 0, 0, 0, 0, 0, 0, 0, 0, 0, 0, 0, 0, 0, 0, 0, 0, 0, 0,\n",
       "       0, 0, 0, 0, 0, 0, 0, 0, 0, 0, 0, 0, 0, 0, 0, 0, 0, 0, 0, 0, 0, 0,\n",
       "       0, 0, 0, 0, 0, 0, 0, 0, 0, 0, 0, 0, 0, 0, 0, 0, 0, 0, 0, 0, 0, 0,\n",
       "       0, 0, 0, 0, 0, 0, 0, 0, 0, 0, 0, 1, 0, 1, 1, 1, 1, 0, 1, 1, 1, 1,\n",
       "       1, 0, 1, 1, 1, 1, 1, 1, 0, 0, 1, 1, 1, 1, 1, 1, 0, 1, 0, 0, 0, 0,\n",
       "       0, 0, 0, 0, 0, 0, 0, 0, 0, 0, 0, 0, 0, 0, 0, 0, 0, 0, 0, 0, 0, 0,\n",
       "       0, 0, 0, 0, 0, 0, 0, 0, 0, 0, 0, 0, 0, 0, 0, 0, 0, 0, 0, 0, 0, 0,\n",
       "       1, 0, 0, 1, 0, 0, 0, 0, 0, 0, 0, 0, 0, 0, 0, 0, 0, 0, 0, 0, 1, 0,\n",
       "       0, 0, 1, 0, 0, 1, 0, 0, 1, 0, 0, 0, 0, 1, 0, 0, 0, 0, 0, 0, 1, 0,\n",
       "       0, 1, 1, 0, 0, 1, 0, 0, 1, 0, 1, 1, 1, 0, 0, 0, 1, 1, 0, 0, 1, 0,\n",
       "       0, 0, 0, 0, 1, 1, 1, 0, 1, 1, 0, 1, 1, 0, 1, 1, 1, 0, 0, 1, 0, 1,\n",
       "       0, 0, 0, 0, 1, 0, 0, 0, 0, 0, 0, 1, 0, 0, 1, 0, 0, 0, 1, 0, 0, 0,\n",
       "       1, 0, 0, 0, 0, 0, 0, 0, 1, 0, 0, 0, 1, 0, 0, 0, 0, 1, 1, 0, 1, 0,\n",
       "       0, 1, 0, 1, 0, 0, 0, 1, 0, 0, 0, 0, 0, 0, 0, 0, 1, 0, 0, 0, 0, 0,\n",
       "       0, 0, 0, 0, 0, 0, 0, 0, 0, 1, 0, 0, 0, 0, 0, 0, 0, 0, 0, 0, 0, 0,\n",
       "       0, 0, 0, 0, 0, 0, 0, 0, 0, 0, 0, 0, 0, 0, 1, 1, 0, 0, 0, 0, 0, 0,\n",
       "       1, 0, 0, 0, 1, 0, 0, 0, 0, 0, 0, 0, 0, 0, 0, 0, 0, 0, 0, 1, 1, 0,\n",
       "       0, 0, 0, 0, 0, 0, 0, 0, 1, 0, 0, 0, 0, 0, 0, 1, 0, 1, 0, 0, 1, 0,\n",
       "       1, 0, 1, 1, 1, 0, 0, 1, 1, 0, 2, 1, 0, 1, 0, 0, 0, 1, 0, 0, 0, 1,\n",
       "       0, 0, 1, 1, 1, 0, 1, 1, 0, 0, 1, 0, 1, 0, 0, 0, 0, 0, 0, 1, 0, 0,\n",
       "       0, 0, 0, 0, 0, 0, 0, 0, 0, 0, 0, 0, 0, 0, 0, 0, 0, 0, 0, 0, 1, 0,\n",
       "       0, 1, 0, 1, 1])"
      ]
     },
     "execution_count": 24,
     "metadata": {},
     "output_type": "execute_result"
    }
   ],
   "source": [
    "y_predicted = km.fit_predict(df[['Age','Sales']])\n",
    "y_predicted"
   ]
  },
  {
   "cell_type": "code",
   "execution_count": 25,
   "metadata": {},
   "outputs": [
    {
     "data": {
      "text/html": [
       "<div>\n",
       "<style scoped>\n",
       "    .dataframe tbody tr th:only-of-type {\n",
       "        vertical-align: middle;\n",
       "    }\n",
       "\n",
       "    .dataframe tbody tr th {\n",
       "        vertical-align: top;\n",
       "    }\n",
       "\n",
       "    .dataframe thead th {\n",
       "        text-align: right;\n",
       "    }\n",
       "</style>\n",
       "<table border=\"1\" class=\"dataframe\">\n",
       "  <thead>\n",
       "    <tr style=\"text-align: right;\">\n",
       "      <th></th>\n",
       "      <th>Date</th>\n",
       "      <th>Name</th>\n",
       "      <th>Sales</th>\n",
       "      <th>Order Number</th>\n",
       "      <th>Age</th>\n",
       "      <th>Gender</th>\n",
       "      <th>cluster</th>\n",
       "    </tr>\n",
       "  </thead>\n",
       "  <tbody>\n",
       "    <tr>\n",
       "      <th>0</th>\n",
       "      <td>01/03/2021</td>\n",
       "      <td>Zee Mawere</td>\n",
       "      <td>3599.00</td>\n",
       "      <td>3988</td>\n",
       "      <td>35</td>\n",
       "      <td>M</td>\n",
       "      <td>0</td>\n",
       "    </tr>\n",
       "    <tr>\n",
       "      <th>1</th>\n",
       "      <td>04/03/2021</td>\n",
       "      <td>Natalie Mill</td>\n",
       "      <td>2999.00</td>\n",
       "      <td>3992</td>\n",
       "      <td>23</td>\n",
       "      <td>F</td>\n",
       "      <td>0</td>\n",
       "    </tr>\n",
       "    <tr>\n",
       "      <th>2</th>\n",
       "      <td>04/03/2021</td>\n",
       "      <td>Patrick Dodzo</td>\n",
       "      <td>3834.84</td>\n",
       "      <td>3994</td>\n",
       "      <td>45</td>\n",
       "      <td>M</td>\n",
       "      <td>0</td>\n",
       "    </tr>\n",
       "    <tr>\n",
       "      <th>3</th>\n",
       "      <td>04/03/2021</td>\n",
       "      <td>Shadey White</td>\n",
       "      <td>497.96</td>\n",
       "      <td>3991</td>\n",
       "      <td>29</td>\n",
       "      <td>F</td>\n",
       "      <td>0</td>\n",
       "    </tr>\n",
       "    <tr>\n",
       "      <th>4</th>\n",
       "      <td>06/03/2021</td>\n",
       "      <td>Bertha Anglo</td>\n",
       "      <td>5996.68</td>\n",
       "      <td>4000</td>\n",
       "      <td>21</td>\n",
       "      <td>F</td>\n",
       "      <td>0</td>\n",
       "    </tr>\n",
       "  </tbody>\n",
       "</table>\n",
       "</div>"
      ],
      "text/plain": [
       "         Date           Name    Sales  Order Number  Age Gender  cluster\n",
       "0  01/03/2021     Zee Mawere  3599.00          3988   35      M        0\n",
       "1  04/03/2021   Natalie Mill  2999.00          3992   23      F        0\n",
       "2  04/03/2021  Patrick Dodzo  3834.84          3994   45      M        0\n",
       "3  04/03/2021   Shadey White   497.96          3991   29      F        0\n",
       "4  06/03/2021   Bertha Anglo  5996.68          4000   21      F        0"
      ]
     },
     "execution_count": 25,
     "metadata": {},
     "output_type": "execute_result"
    }
   ],
   "source": [
    "df['cluster'] = y_predicted\n",
    "df.head()"
   ]
  },
  {
   "cell_type": "code",
   "execution_count": 26,
   "metadata": {},
   "outputs": [
    {
     "data": {
      "text/html": [
       "<div>\n",
       "<style scoped>\n",
       "    .dataframe tbody tr th:only-of-type {\n",
       "        vertical-align: middle;\n",
       "    }\n",
       "\n",
       "    .dataframe tbody tr th {\n",
       "        vertical-align: top;\n",
       "    }\n",
       "\n",
       "    .dataframe thead th {\n",
       "        text-align: right;\n",
       "    }\n",
       "</style>\n",
       "<table border=\"1\" class=\"dataframe\">\n",
       "  <thead>\n",
       "    <tr style=\"text-align: right;\">\n",
       "      <th></th>\n",
       "      <th>Date</th>\n",
       "      <th>Name</th>\n",
       "      <th>Sales</th>\n",
       "      <th>Order Number</th>\n",
       "      <th>Age</th>\n",
       "      <th>Gender</th>\n",
       "      <th>cluster</th>\n",
       "    </tr>\n",
       "  </thead>\n",
       "  <tbody>\n",
       "    <tr>\n",
       "      <th>682</th>\n",
       "      <td>31/08/2021</td>\n",
       "      <td>Dzi Dza</td>\n",
       "      <td>9288.06</td>\n",
       "      <td>5404</td>\n",
       "      <td>32</td>\n",
       "      <td>M</td>\n",
       "      <td>0</td>\n",
       "    </tr>\n",
       "    <tr>\n",
       "      <th>683</th>\n",
       "      <td>31/08/2021</td>\n",
       "      <td>Leigh Benny</td>\n",
       "      <td>79180.67</td>\n",
       "      <td>5401</td>\n",
       "      <td>31</td>\n",
       "      <td>F</td>\n",
       "      <td>1</td>\n",
       "    </tr>\n",
       "    <tr>\n",
       "      <th>684</th>\n",
       "      <td>31/08/2021</td>\n",
       "      <td>Never Lose</td>\n",
       "      <td>9000.84</td>\n",
       "      <td>5400</td>\n",
       "      <td>32</td>\n",
       "      <td>M</td>\n",
       "      <td>0</td>\n",
       "    </tr>\n",
       "    <tr>\n",
       "      <th>685</th>\n",
       "      <td>31/08/2021</td>\n",
       "      <td>One Winner</td>\n",
       "      <td>60399.04</td>\n",
       "      <td>5398</td>\n",
       "      <td>49</td>\n",
       "      <td>F</td>\n",
       "      <td>1</td>\n",
       "    </tr>\n",
       "    <tr>\n",
       "      <th>686</th>\n",
       "      <td>31/08/2021</td>\n",
       "      <td>Ta Zviona</td>\n",
       "      <td>90711.36</td>\n",
       "      <td>5403</td>\n",
       "      <td>43</td>\n",
       "      <td>F</td>\n",
       "      <td>1</td>\n",
       "    </tr>\n",
       "  </tbody>\n",
       "</table>\n",
       "</div>"
      ],
      "text/plain": [
       "           Date         Name     Sales  Order Number  Age Gender  cluster\n",
       "682  31/08/2021      Dzi Dza   9288.06          5404   32      M        0\n",
       "683  31/08/2021  Leigh Benny  79180.67          5401   31      F        1\n",
       "684  31/08/2021   Never Lose   9000.84          5400   32      M        0\n",
       "685  31/08/2021   One Winner  60399.04          5398   49      F        1\n",
       "686  31/08/2021    Ta Zviona  90711.36          5403   43      F        1"
      ]
     },
     "execution_count": 26,
     "metadata": {},
     "output_type": "execute_result"
    }
   ],
   "source": [
    "df.tail()"
   ]
  },
  {
   "cell_type": "code",
   "execution_count": 27,
   "metadata": {},
   "outputs": [
    {
     "name": "stderr",
     "output_type": "stream",
     "text": [
      "No handles with labels found to put in legend.\n"
     ]
    },
    {
     "data": {
      "text/plain": [
       "<matplotlib.legend.Legend at 0x254fc850548>"
      ]
     },
     "execution_count": 27,
     "metadata": {},
     "output_type": "execute_result"
    },
    {
     "data": {
      "image/png": "[encoded data removed]",
      "text/plain": [
       "<Figure size 432x288 with 1 Axes>"
      ]
     },
     "metadata": {
      "needs_background": "light"
     },
     "output_type": "display_data"
    }
   ],
   "source": [
    "df1 = df[df.cluster==0]\n",
    "df2 = df[df.cluster==1]\n",
    "\n",
    "plt.scatter(df1.Age,df1['Sales'],color='green')\n",
    "plt.scatter(df2.Age,df2['Sales'],color='blue')\n",
    "\n",
    "plt.xlabel('Age')\n",
    "plt.ylabel('Sales')\n",
    "plt.legend()"
   ]
  },
  {
   "cell_type": "code",
   "execution_count": 29,
   "metadata": {},
   "outputs": [
    {
     "ename": "ValueError",
     "evalue": "Expected 2D array, got 1D array instead:\narray=[35. 23. 45. 29. 21. 29. 35. 35. 35. 28. 51. 33. 43. 25. 29. 35. 31. 31.\n 37. 35. 35. 35. 35. 23. 37. 37. 37. 53. 35. 36. 36. 34. 46. 36. 36. 53.\n 35. 35. 35. 35. 35. 35. 26. 51. 41. 33. 42. 35. 29. 33. 31. 40. 35. 35.\n 35. 35. 35. 35. 35. 35. 35. 31. 31. 31. 41. 35. 35. 35. 35. 35. 35. 35.\n 23. 36. 41. 26. 35. 35. 35. 35. 35. 35. 32. 35. 35. 35. 35. 35. 23. 33.\n 29. 29. 33. 35. 35. 35. 20. 28. 36. 33. 38. 41. 41. 27. 32. 45. 35. 34.\n 21. 51. 34. 34. 52. 48. 28. 23. 29. 23. 33. 31. 32. 23. 35. 29. 24. 41.\n 28. 40. 40. 41. 26. 23. 20. 25. 36. 30. 33. 41. 41. 32. 39. 46. 47. 34.\n 43. 38. 23. 33. 39. 28. 25. 23. 42. 35. 35. 35. 35. 35. 28. 37. 35. 41.\n 35. 35. 46. 53. 35. 35. 35. 35. 35. 25. 36. 26. 44. 35. 37. 27. 36. 34.\n 26. 28. 36. 34. 24. 25. 40. 35. 35. 35. 35. 23. 29. 33. 29. 29. 35. 35.\n 35. 35. 35. 35. 22. 32. 55. 35. 35. 35. 35. 35. 35. 29. 31. 35. 35. 35.\n 35. 35. 35. 35. 24. 29. 30. 27. 29. 29. 28. 28. 28. 28. 36. 33. 43. 27.\n 20. 26. 26. 33. 43. 29. 33. 50. 53. 36. 26. 33. 33. 26. 42. 41. 29. 33.\n 27. 35. 44. 54. 23. 30. 26. 24. 45. 34. 22. 41. 42. 30. 30. 24. 45. 23.\n 29. 50. 44. 30. 42. 45. 23. 19. 32. 21. 37. 45. 45. 54. 31. 44. 33. 33.\n 33. 33. 33. 35. 21. 26. 45. 23. 29. 33. 36. 46. 27. 33. 44. 35. 29. 22.\n 24. 50. 23. 42. 32. 45. 39. 37. 23. 35. 31. 31. 21. 31. 34. 32. 41. 52.\n 37. 44. 35. 35. 35. 37. 37. 29. 23. 26. 37. 29. 33. 35. 20. 20. 33. 30.\n 30. 33. 22. 22. 22. 22. 22. 30. 30. 29. 29. 33. 33. 27. 26. 22. 42. 30.\n 30. 29. 33. 33. 33. 33. 33. 33. 33. 33. 34. 33. 26. 41. 43. 47. 47. 27.\n 33. 28. 28. 28. 29. 29. 33. 33. 33. 33. 33. 44. 44. 33. 26. 20. 28. 19.\n 21. 23. 32. 35. 43. 36. 29. 29. 40. 30. 30. 26. 23. 38. 40. 40. 37. 31.\n 31. 31. 24. 26. 25. 37. 29. 44. 44. 35. 53. 26. 22. 33. 34. 35. 21. 37.\n 37. 44. 33. 30. 30. 35. 38. 27. 53. 24. 31. 31. 31. 30. 33. 35. 43. 44.\n 33. 42. 31. 34. 55. 57. 53. 25. 35. 34. 23. 51. 32. 42. 23. 37. 34. 35.\n 28. 53. 30. 46. 41. 56. 26. 26. 38. 53. 47. 37. 27. 39. 33. 33. 50. 23.\n 53. 53. 42. 37. 29. 35. 29. 33. 34. 26. 41. 36. 26. 33. 33. 37. 29. 35.\n 25. 42. 42. 30. 33. 50. 30. 33. 33. 23. 26. 26. 35. 58. 35. 33. 26. 26.\n 29. 53. 53. 53. 45. 45. 26. 53. 30. 34. 29. 35. 30. 27. 53. 39. 32. 23.\n 25. 33. 40. 26. 36. 22. 53. 53. 53. 26. 26. 29. 53. 53. 25. 34. 35. 26.\n 29. 29. 29. 29. 37. 33. 35. 41. 30. 49. 33. 33. 26. 44. 40. 33. 33. 44.\n 27. 43. 44. 53. 46. 25. 29. 24. 29. 35. 35. 35. 35. 35. 33. 44. 43. 37.\n 35. 37. 27. 41. 29. 35. 35. 35. 42. 26. 26. 33. 29. 35. 35. 32. 43. 29.\n 33. 29. 31. 27. 27. 33. 44. 33. 40. 46. 32. 58. 52. 46. 40. 52. 19. 31.\n 28. 54. 38. 37. 27. 24. 33. 39. 37. 29. 49. 27. 34. 35. 41. 30. 21. 33.\n 29. 36. 42. 29. 35. 24. 30. 39. 35. 52. 26. 33. 33. 24. 28. 23. 34. 46.\n 45. 37. 44. 23. 53. 36. 44. 37. 35. 33. 33. 28. 44. 32. 39. 44. 32. 31.\n 32. 49. 43.].\nReshape your data either using array.reshape(-1, 1) if your data has a single feature or array.reshape(1, -1) if it contains a single sample.",
     "output_type": "error",
     "traceback": [
      "\u001b[1;31m---------------------------------------------------------------------------\u001b[0m",
      "\u001b[1;31mValueError\u001b[0m                                Traceback (most recent call last)",
      "\u001b[1;32m<ipython-input-29-86dbf1b837a7>\u001b[0m in \u001b[0;36m<module>\u001b[1;34m\u001b[0m\n\u001b[0;32m      1\u001b[0m \u001b[0mscaler\u001b[0m \u001b[1;33m=\u001b[0m \u001b[0mMinMaxScaler\u001b[0m\u001b[1;33m(\u001b[0m\u001b[1;33m)\u001b[0m\u001b[1;33m\u001b[0m\u001b[1;33m\u001b[0m\u001b[0m\n\u001b[0;32m      2\u001b[0m \u001b[0mscaler\u001b[0m\u001b[1;33m.\u001b[0m\u001b[0mfit\u001b[0m\u001b[1;33m(\u001b[0m\u001b[0mdf\u001b[0m\u001b[1;33m[\u001b[0m\u001b[1;33m[\u001b[0m\u001b[1;34m'Age'\u001b[0m\u001b[1;33m]\u001b[0m\u001b[1;33m]\u001b[0m\u001b[1;33m)\u001b[0m\u001b[1;33m\u001b[0m\u001b[1;33m\u001b[0m\u001b[0m\n\u001b[1;32m----> 3\u001b[1;33m \u001b[0mdf\u001b[0m\u001b[1;33m[\u001b[0m\u001b[1;34m'Age'\u001b[0m\u001b[1;33m]\u001b[0m \u001b[1;33m=\u001b[0m \u001b[0mscaler\u001b[0m\u001b[1;33m.\u001b[0m\u001b[0mtransform\u001b[0m\u001b[1;33m(\u001b[0m\u001b[0mdf\u001b[0m\u001b[1;33m[\u001b[0m\u001b[1;34m'Age'\u001b[0m\u001b[1;33m]\u001b[0m\u001b[1;33m)\u001b[0m\u001b[1;33m\u001b[0m\u001b[1;33m\u001b[0m\u001b[0m\n\u001b[0m\u001b[0;32m      4\u001b[0m \u001b[0mdf\u001b[0m\u001b[1;33m\u001b[0m\u001b[1;33m\u001b[0m\u001b[0m\n",
      "\u001b[1;32m~\\anaconda3\\lib\\site-packages\\sklearn\\preprocessing\\_data.py\u001b[0m in \u001b[0;36mtransform\u001b[1;34m(self, X)\u001b[0m\n\u001b[0;32m    410\u001b[0m \u001b[1;33m\u001b[0m\u001b[0m\n\u001b[0;32m    411\u001b[0m         X = check_array(X, copy=self.copy, dtype=FLOAT_DTYPES,\n\u001b[1;32m--> 412\u001b[1;33m                         force_all_finite=\"allow-nan\")\n\u001b[0m\u001b[0;32m    413\u001b[0m \u001b[1;33m\u001b[0m\u001b[0m\n\u001b[0;32m    414\u001b[0m         \u001b[0mX\u001b[0m \u001b[1;33m*=\u001b[0m \u001b[0mself\u001b[0m\u001b[1;33m.\u001b[0m\u001b[0mscale_\u001b[0m\u001b[1;33m\u001b[0m\u001b[1;33m\u001b[0m\u001b[0m\n",
      "\u001b[1;32m~\\anaconda3\\lib\\site-packages\\sklearn\\utils\\validation.py\u001b[0m in \u001b[0;36mcheck_array\u001b[1;34m(array, accept_sparse, accept_large_sparse, dtype, order, copy, force_all_finite, ensure_2d, allow_nd, ensure_min_samples, ensure_min_features, warn_on_dtype, estimator)\u001b[0m\n\u001b[0;32m    554\u001b[0m                     \u001b[1;34m\"Reshape your data either using array.reshape(-1, 1) if \"\u001b[0m\u001b[1;33m\u001b[0m\u001b[1;33m\u001b[0m\u001b[0m\n\u001b[0;32m    555\u001b[0m                     \u001b[1;34m\"your data has a single feature or array.reshape(1, -1) \"\u001b[0m\u001b[1;33m\u001b[0m\u001b[1;33m\u001b[0m\u001b[0m\n\u001b[1;32m--> 556\u001b[1;33m                     \"if it contains a single sample.\".format(array))\n\u001b[0m\u001b[0;32m    557\u001b[0m \u001b[1;33m\u001b[0m\u001b[0m\n\u001b[0;32m    558\u001b[0m         \u001b[1;31m# in the future np.flexible dtypes will be handled like object dtypes\u001b[0m\u001b[1;33m\u001b[0m\u001b[1;33m\u001b[0m\u001b[1;33m\u001b[0m\u001b[0m\n",
      "\u001b[1;31mValueError\u001b[0m: Expected 2D array, got 1D array instead:\narray=[35. 23. 45. 29. 21. 29. 35. 35. 35. 28. 51. 33. 43. 25. 29. 35. 31. 31.\n 37. 35. 35. 35. 35. 23. 37. 37. 37. 53. 35. 36. 36. 34. 46. 36. 36. 53.\n 35. 35. 35. 35. 35. 35. 26. 51. 41. 33. 42. 35. 29. 33. 31. 40. 35. 35.\n 35. 35. 35. 35. 35. 35. 35. 31. 31. 31. 41. 35. 35. 35. 35. 35. 35. 35.\n 23. 36. 41. 26. 35. 35. 35. 35. 35. 35. 32. 35. 35. 35. 35. 35. 23. 33.\n 29. 29. 33. 35. 35. 35. 20. 28. 36. 33. 38. 41. 41. 27. 32. 45. 35. 34.\n 21. 51. 34. 34. 52. 48. 28. 23. 29. 23. 33. 31. 32. 23. 35. 29. 24. 41.\n 28. 40. 40. 41. 26. 23. 20. 25. 36. 30. 33. 41. 41. 32. 39. 46. 47. 34.\n 43. 38. 23. 33. 39. 28. 25. 23. 42. 35. 35. 35. 35. 35. 28. 37. 35. 41.\n 35. 35. 46. 53. 35. 35. 35. 35. 35. 25. 36. 26. 44. 35. 37. 27. 36. 34.\n 26. 28. 36. 34. 24. 25. 40. 35. 35. 35. 35. 23. 29. 33. 29. 29. 35. 35.\n 35. 35. 35. 35. 22. 32. 55. 35. 35. 35. 35. 35. 35. 29. 31. 35. 35. 35.\n 35. 35. 35. 35. 24. 29. 30. 27. 29. 29. 28. 28. 28. 28. 36. 33. 43. 27.\n 20. 26. 26. 33. 43. 29. 33. 50. 53. 36. 26. 33. 33. 26. 42. 41. 29. 33.\n 27. 35. 44. 54. 23. 30. 26. 24. 45. 34. 22. 41. 42. 30. 30. 24. 45. 23.\n 29. 50. 44. 30. 42. 45. 23. 19. 32. 21. 37. 45. 45. 54. 31. 44. 33. 33.\n 33. 33. 33. 35. 21. 26. 45. 23. 29. 33. 36. 46. 27. 33. 44. 35. 29. 22.\n 24. 50. 23. 42. 32. 45. 39. 37. 23. 35. 31. 31. 21. 31. 34. 32. 41. 52.\n 37. 44. 35. 35. 35. 37. 37. 29. 23. 26. 37. 29. 33. 35. 20. 20. 33. 30.\n 30. 33. 22. 22. 22. 22. 22. 30. 30. 29. 29. 33. 33. 27. 26. 22. 42. 30.\n 30. 29. 33. 33. 33. 33. 33. 33. 33. 33. 34. 33. 26. 41. 43. 47. 47. 27.\n 33. 28. 28. 28. 29. 29. 33. 33. 33. 33. 33. 44. 44. 33. 26. 20. 28. 19.\n 21. 23. 32. 35. 43. 36. 29. 29. 40. 30. 30. 26. 23. 38. 40. 40. 37. 31.\n 31. 31. 24. 26. 25. 37. 29. 44. 44. 35. 53. 26. 22. 33. 34. 35. 21. 37.\n 37. 44. 33. 30. 30. 35. 38. 27. 53. 24. 31. 31. 31. 30. 33. 35. 43. 44.\n 33. 42. 31. 34. 55. 57. 53. 25. 35. 34. 23. 51. 32. 42. 23. 37. 34. 35.\n 28. 53. 30. 46. 41. 56. 26. 26. 38. 53. 47. 37. 27. 39. 33. 33. 50. 23.\n 53. 53. 42. 37. 29. 35. 29. 33. 34. 26. 41. 36. 26. 33. 33. 37. 29. 35.\n 25. 42. 42. 30. 33. 50. 30. 33. 33. 23. 26. 26. 35. 58. 35. 33. 26. 26.\n 29. 53. 53. 53. 45. 45. 26. 53. 30. 34. 29. 35. 30. 27. 53. 39. 32. 23.\n 25. 33. 40. 26. 36. 22. 53. 53. 53. 26. 26. 29. 53. 53. 25. 34. 35. 26.\n 29. 29. 29. 29. 37. 33. 35. 41. 30. 49. 33. 33. 26. 44. 40. 33. 33. 44.\n 27. 43. 44. 53. 46. 25. 29. 24. 29. 35. 35. 35. 35. 35. 33. 44. 43. 37.\n 35. 37. 27. 41. 29. 35. 35. 35. 42. 26. 26. 33. 29. 35. 35. 32. 43. 29.\n 33. 29. 31. 27. 27. 33. 44. 33. 40. 46. 32. 58. 52. 46. 40. 52. 19. 31.\n 28. 54. 38. 37. 27. 24. 33. 39. 37. 29. 49. 27. 34. 35. 41. 30. 21. 33.\n 29. 36. 42. 29. 35. 24. 30. 39. 35. 52. 26. 33. 33. 24. 28. 23. 34. 46.\n 45. 37. 44. 23. 53. 36. 44. 37. 35. 33. 33. 28. 44. 32. 39. 44. 32. 31.\n 32. 49. 43.].\nReshape your data either using array.reshape(-1, 1) if your data has a single feature or array.reshape(1, -1) if it contains a single sample."
     ]
    }
   ],
   "source": [
    "scaler = MinMaxScaler()\n",
    "scaler.fit(df[['Age']])\n",
    "df['Age'] = scaler.transform(df['Age'])\n",
    "df"
   ]
  },
  {
   "cell_type": "code",
   "execution_count": 30,
   "metadata": {},
   "outputs": [
    {
     "ename": "ValueError",
     "evalue": "Expected 2D array, got 1D array instead:\narray=[35. 23. 45. 29. 21. 29. 35. 35. 35. 28. 51. 33. 43. 25. 29. 35. 31. 31.\n 37. 35. 35. 35. 35. 23. 37. 37. 37. 53. 35. 36. 36. 34. 46. 36. 36. 53.\n 35. 35. 35. 35. 35. 35. 26. 51. 41. 33. 42. 35. 29. 33. 31. 40. 35. 35.\n 35. 35. 35. 35. 35. 35. 35. 31. 31. 31. 41. 35. 35. 35. 35. 35. 35. 35.\n 23. 36. 41. 26. 35. 35. 35. 35. 35. 35. 32. 35. 35. 35. 35. 35. 23. 33.\n 29. 29. 33. 35. 35. 35. 20. 28. 36. 33. 38. 41. 41. 27. 32. 45. 35. 34.\n 21. 51. 34. 34. 52. 48. 28. 23. 29. 23. 33. 31. 32. 23. 35. 29. 24. 41.\n 28. 40. 40. 41. 26. 23. 20. 25. 36. 30. 33. 41. 41. 32. 39. 46. 47. 34.\n 43. 38. 23. 33. 39. 28. 25. 23. 42. 35. 35. 35. 35. 35. 28. 37. 35. 41.\n 35. 35. 46. 53. 35. 35. 35. 35. 35. 25. 36. 26. 44. 35. 37. 27. 36. 34.\n 26. 28. 36. 34. 24. 25. 40. 35. 35. 35. 35. 23. 29. 33. 29. 29. 35. 35.\n 35. 35. 35. 35. 22. 32. 55. 35. 35. 35. 35. 35. 35. 29. 31. 35. 35. 35.\n 35. 35. 35. 35. 24. 29. 30. 27. 29. 29. 28. 28. 28. 28. 36. 33. 43. 27.\n 20. 26. 26. 33. 43. 29. 33. 50. 53. 36. 26. 33. 33. 26. 42. 41. 29. 33.\n 27. 35. 44. 54. 23. 30. 26. 24. 45. 34. 22. 41. 42. 30. 30. 24. 45. 23.\n 29. 50. 44. 30. 42. 45. 23. 19. 32. 21. 37. 45. 45. 54. 31. 44. 33. 33.\n 33. 33. 33. 35. 21. 26. 45. 23. 29. 33. 36. 46. 27. 33. 44. 35. 29. 22.\n 24. 50. 23. 42. 32. 45. 39. 37. 23. 35. 31. 31. 21. 31. 34. 32. 41. 52.\n 37. 44. 35. 35. 35. 37. 37. 29. 23. 26. 37. 29. 33. 35. 20. 20. 33. 30.\n 30. 33. 22. 22. 22. 22. 22. 30. 30. 29. 29. 33. 33. 27. 26. 22. 42. 30.\n 30. 29. 33. 33. 33. 33. 33. 33. 33. 33. 34. 33. 26. 41. 43. 47. 47. 27.\n 33. 28. 28. 28. 29. 29. 33. 33. 33. 33. 33. 44. 44. 33. 26. 20. 28. 19.\n 21. 23. 32. 35. 43. 36. 29. 29. 40. 30. 30. 26. 23. 38. 40. 40. 37. 31.\n 31. 31. 24. 26. 25. 37. 29. 44. 44. 35. 53. 26. 22. 33. 34. 35. 21. 37.\n 37. 44. 33. 30. 30. 35. 38. 27. 53. 24. 31. 31. 31. 30. 33. 35. 43. 44.\n 33. 42. 31. 34. 55. 57. 53. 25. 35. 34. 23. 51. 32. 42. 23. 37. 34. 35.\n 28. 53. 30. 46. 41. 56. 26. 26. 38. 53. 47. 37. 27. 39. 33. 33. 50. 23.\n 53. 53. 42. 37. 29. 35. 29. 33. 34. 26. 41. 36. 26. 33. 33. 37. 29. 35.\n 25. 42. 42. 30. 33. 50. 30. 33. 33. 23. 26. 26. 35. 58. 35. 33. 26. 26.\n 29. 53. 53. 53. 45. 45. 26. 53. 30. 34. 29. 35. 30. 27. 53. 39. 32. 23.\n 25. 33. 40. 26. 36. 22. 53. 53. 53. 26. 26. 29. 53. 53. 25. 34. 35. 26.\n 29. 29. 29. 29. 37. 33. 35. 41. 30. 49. 33. 33. 26. 44. 40. 33. 33. 44.\n 27. 43. 44. 53. 46. 25. 29. 24. 29. 35. 35. 35. 35. 35. 33. 44. 43. 37.\n 35. 37. 27. 41. 29. 35. 35. 35. 42. 26. 26. 33. 29. 35. 35. 32. 43. 29.\n 33. 29. 31. 27. 27. 33. 44. 33. 40. 46. 32. 58. 52. 46. 40. 52. 19. 31.\n 28. 54. 38. 37. 27. 24. 33. 39. 37. 29. 49. 27. 34. 35. 41. 30. 21. 33.\n 29. 36. 42. 29. 35. 24. 30. 39. 35. 52. 26. 33. 33. 24. 28. 23. 34. 46.\n 45. 37. 44. 23. 53. 36. 44. 37. 35. 33. 33. 28. 44. 32. 39. 44. 32. 31.\n 32. 49. 43.].\nReshape your data either using array.reshape(-1, 1) if your data has a single feature or array.reshape(1, -1) if it contains a single sample.",
     "output_type": "error",
     "traceback": [
      "\u001b[1;31m---------------------------------------------------------------------------\u001b[0m",
      "\u001b[1;31mValueError\u001b[0m                                Traceback (most recent call last)",
      "\u001b[1;32m<ipython-input-30-d16791507b46>\u001b[0m in \u001b[0;36m<module>\u001b[1;34m\u001b[0m\n\u001b[1;32m----> 1\u001b[1;33m \u001b[0mscaler\u001b[0m\u001b[1;33m.\u001b[0m\u001b[0mfit\u001b[0m\u001b[1;33m(\u001b[0m\u001b[0mdf\u001b[0m\u001b[1;33m.\u001b[0m\u001b[0mAge\u001b[0m\u001b[1;33m)\u001b[0m\u001b[1;33m\u001b[0m\u001b[1;33m\u001b[0m\u001b[0m\n\u001b[0m\u001b[0;32m      2\u001b[0m \u001b[0mdf\u001b[0m\u001b[1;33m.\u001b[0m\u001b[0mAge\u001b[0m \u001b[1;33m=\u001b[0m \u001b[0mscaler\u001b[0m\u001b[1;33m.\u001b[0m\u001b[0mtransform\u001b[0m\u001b[1;33m(\u001b[0m\u001b[0mdf\u001b[0m\u001b[1;33m.\u001b[0m\u001b[0mAge\u001b[0m\u001b[1;33m)\u001b[0m\u001b[1;33m\u001b[0m\u001b[1;33m\u001b[0m\u001b[0m\n\u001b[0;32m      3\u001b[0m \u001b[0mdf\u001b[0m\u001b[1;33m\u001b[0m\u001b[1;33m\u001b[0m\u001b[0m\n",
      "\u001b[1;32m~\\anaconda3\\lib\\site-packages\\sklearn\\preprocessing\\_data.py\u001b[0m in \u001b[0;36mfit\u001b[1;34m(self, X, y)\u001b[0m\n\u001b[0;32m    337\u001b[0m         \u001b[1;31m# Reset internal state before fitting\u001b[0m\u001b[1;33m\u001b[0m\u001b[1;33m\u001b[0m\u001b[1;33m\u001b[0m\u001b[0m\n\u001b[0;32m    338\u001b[0m         \u001b[0mself\u001b[0m\u001b[1;33m.\u001b[0m\u001b[0m_reset\u001b[0m\u001b[1;33m(\u001b[0m\u001b[1;33m)\u001b[0m\u001b[1;33m\u001b[0m\u001b[1;33m\u001b[0m\u001b[0m\n\u001b[1;32m--> 339\u001b[1;33m         \u001b[1;32mreturn\u001b[0m \u001b[0mself\u001b[0m\u001b[1;33m.\u001b[0m\u001b[0mpartial_fit\u001b[0m\u001b[1;33m(\u001b[0m\u001b[0mX\u001b[0m\u001b[1;33m,\u001b[0m \u001b[0my\u001b[0m\u001b[1;33m)\u001b[0m\u001b[1;33m\u001b[0m\u001b[1;33m\u001b[0m\u001b[0m\n\u001b[0m\u001b[0;32m    340\u001b[0m \u001b[1;33m\u001b[0m\u001b[0m\n\u001b[0;32m    341\u001b[0m     \u001b[1;32mdef\u001b[0m \u001b[0mpartial_fit\u001b[0m\u001b[1;33m(\u001b[0m\u001b[0mself\u001b[0m\u001b[1;33m,\u001b[0m \u001b[0mX\u001b[0m\u001b[1;33m,\u001b[0m \u001b[0my\u001b[0m\u001b[1;33m=\u001b[0m\u001b[1;32mNone\u001b[0m\u001b[1;33m)\u001b[0m\u001b[1;33m:\u001b[0m\u001b[1;33m\u001b[0m\u001b[1;33m\u001b[0m\u001b[0m\n",
      "\u001b[1;32m~\\anaconda3\\lib\\site-packages\\sklearn\\preprocessing\\_data.py\u001b[0m in \u001b[0;36mpartial_fit\u001b[1;34m(self, X, y)\u001b[0m\n\u001b[0;32m    371\u001b[0m         X = check_array(X,\n\u001b[0;32m    372\u001b[0m                         \u001b[0mestimator\u001b[0m\u001b[1;33m=\u001b[0m\u001b[0mself\u001b[0m\u001b[1;33m,\u001b[0m \u001b[0mdtype\u001b[0m\u001b[1;33m=\u001b[0m\u001b[0mFLOAT_DTYPES\u001b[0m\u001b[1;33m,\u001b[0m\u001b[1;33m\u001b[0m\u001b[1;33m\u001b[0m\u001b[0m\n\u001b[1;32m--> 373\u001b[1;33m                         force_all_finite=\"allow-nan\")\n\u001b[0m\u001b[0;32m    374\u001b[0m \u001b[1;33m\u001b[0m\u001b[0m\n\u001b[0;32m    375\u001b[0m         \u001b[0mdata_min\u001b[0m \u001b[1;33m=\u001b[0m \u001b[0mnp\u001b[0m\u001b[1;33m.\u001b[0m\u001b[0mnanmin\u001b[0m\u001b[1;33m(\u001b[0m\u001b[0mX\u001b[0m\u001b[1;33m,\u001b[0m \u001b[0maxis\u001b[0m\u001b[1;33m=\u001b[0m\u001b[1;36m0\u001b[0m\u001b[1;33m)\u001b[0m\u001b[1;33m\u001b[0m\u001b[1;33m\u001b[0m\u001b[0m\n",
      "\u001b[1;32m~\\anaconda3\\lib\\site-packages\\sklearn\\utils\\validation.py\u001b[0m in \u001b[0;36mcheck_array\u001b[1;34m(array, accept_sparse, accept_large_sparse, dtype, order, copy, force_all_finite, ensure_2d, allow_nd, ensure_min_samples, ensure_min_features, warn_on_dtype, estimator)\u001b[0m\n\u001b[0;32m    554\u001b[0m                     \u001b[1;34m\"Reshape your data either using array.reshape(-1, 1) if \"\u001b[0m\u001b[1;33m\u001b[0m\u001b[1;33m\u001b[0m\u001b[0m\n\u001b[0;32m    555\u001b[0m                     \u001b[1;34m\"your data has a single feature or array.reshape(1, -1) \"\u001b[0m\u001b[1;33m\u001b[0m\u001b[1;33m\u001b[0m\u001b[0m\n\u001b[1;32m--> 556\u001b[1;33m                     \"if it contains a single sample.\".format(array))\n\u001b[0m\u001b[0;32m    557\u001b[0m \u001b[1;33m\u001b[0m\u001b[0m\n\u001b[0;32m    558\u001b[0m         \u001b[1;31m# in the future np.flexible dtypes will be handled like object dtypes\u001b[0m\u001b[1;33m\u001b[0m\u001b[1;33m\u001b[0m\u001b[1;33m\u001b[0m\u001b[0m\n",
      "\u001b[1;31mValueError\u001b[0m: Expected 2D array, got 1D array instead:\narray=[35. 23. 45. 29. 21. 29. 35. 35. 35. 28. 51. 33. 43. 25. 29. 35. 31. 31.\n 37. 35. 35. 35. 35. 23. 37. 37. 37. 53. 35. 36. 36. 34. 46. 36. 36. 53.\n 35. 35. 35. 35. 35. 35. 26. 51. 41. 33. 42. 35. 29. 33. 31. 40. 35. 35.\n 35. 35. 35. 35. 35. 35. 35. 31. 31. 31. 41. 35. 35. 35. 35. 35. 35. 35.\n 23. 36. 41. 26. 35. 35. 35. 35. 35. 35. 32. 35. 35. 35. 35. 35. 23. 33.\n 29. 29. 33. 35. 35. 35. 20. 28. 36. 33. 38. 41. 41. 27. 32. 45. 35. 34.\n 21. 51. 34. 34. 52. 48. 28. 23. 29. 23. 33. 31. 32. 23. 35. 29. 24. 41.\n 28. 40. 40. 41. 26. 23. 20. 25. 36. 30. 33. 41. 41. 32. 39. 46. 47. 34.\n 43. 38. 23. 33. 39. 28. 25. 23. 42. 35. 35. 35. 35. 35. 28. 37. 35. 41.\n 35. 35. 46. 53. 35. 35. 35. 35. 35. 25. 36. 26. 44. 35. 37. 27. 36. 34.\n 26. 28. 36. 34. 24. 25. 40. 35. 35. 35. 35. 23. 29. 33. 29. 29. 35. 35.\n 35. 35. 35. 35. 22. 32. 55. 35. 35. 35. 35. 35. 35. 29. 31. 35. 35. 35.\n 35. 35. 35. 35. 24. 29. 30. 27. 29. 29. 28. 28. 28. 28. 36. 33. 43. 27.\n 20. 26. 26. 33. 43. 29. 33. 50. 53. 36. 26. 33. 33. 26. 42. 41. 29. 33.\n 27. 35. 44. 54. 23. 30. 26. 24. 45. 34. 22. 41. 42. 30. 30. 24. 45. 23.\n 29. 50. 44. 30. 42. 45. 23. 19. 32. 21. 37. 45. 45. 54. 31. 44. 33. 33.\n 33. 33. 33. 35. 21. 26. 45. 23. 29. 33. 36. 46. 27. 33. 44. 35. 29. 22.\n 24. 50. 23. 42. 32. 45. 39. 37. 23. 35. 31. 31. 21. 31. 34. 32. 41. 52.\n 37. 44. 35. 35. 35. 37. 37. 29. 23. 26. 37. 29. 33. 35. 20. 20. 33. 30.\n 30. 33. 22. 22. 22. 22. 22. 30. 30. 29. 29. 33. 33. 27. 26. 22. 42. 30.\n 30. 29. 33. 33. 33. 33. 33. 33. 33. 33. 34. 33. 26. 41. 43. 47. 47. 27.\n 33. 28. 28. 28. 29. 29. 33. 33. 33. 33. 33. 44. 44. 33. 26. 20. 28. 19.\n 21. 23. 32. 35. 43. 36. 29. 29. 40. 30. 30. 26. 23. 38. 40. 40. 37. 31.\n 31. 31. 24. 26. 25. 37. 29. 44. 44. 35. 53. 26. 22. 33. 34. 35. 21. 37.\n 37. 44. 33. 30. 30. 35. 38. 27. 53. 24. 31. 31. 31. 30. 33. 35. 43. 44.\n 33. 42. 31. 34. 55. 57. 53. 25. 35. 34. 23. 51. 32. 42. 23. 37. 34. 35.\n 28. 53. 30. 46. 41. 56. 26. 26. 38. 53. 47. 37. 27. 39. 33. 33. 50. 23.\n 53. 53. 42. 37. 29. 35. 29. 33. 34. 26. 41. 36. 26. 33. 33. 37. 29. 35.\n 25. 42. 42. 30. 33. 50. 30. 33. 33. 23. 26. 26. 35. 58. 35. 33. 26. 26.\n 29. 53. 53. 53. 45. 45. 26. 53. 30. 34. 29. 35. 30. 27. 53. 39. 32. 23.\n 25. 33. 40. 26. 36. 22. 53. 53. 53. 26. 26. 29. 53. 53. 25. 34. 35. 26.\n 29. 29. 29. 29. 37. 33. 35. 41. 30. 49. 33. 33. 26. 44. 40. 33. 33. 44.\n 27. 43. 44. 53. 46. 25. 29. 24. 29. 35. 35. 35. 35. 35. 33. 44. 43. 37.\n 35. 37. 27. 41. 29. 35. 35. 35. 42. 26. 26. 33. 29. 35. 35. 32. 43. 29.\n 33. 29. 31. 27. 27. 33. 44. 33. 40. 46. 32. 58. 52. 46. 40. 52. 19. 31.\n 28. 54. 38. 37. 27. 24. 33. 39. 37. 29. 49. 27. 34. 35. 41. 30. 21. 33.\n 29. 36. 42. 29. 35. 24. 30. 39. 35. 52. 26. 33. 33. 24. 28. 23. 34. 46.\n 45. 37. 44. 23. 53. 36. 44. 37. 35. 33. 33. 28. 44. 32. 39. 44. 32. 31.\n 32. 49. 43.].\nReshape your data either using array.reshape(-1, 1) if your data has a single feature or array.reshape(1, -1) if it contains a single sample."
     ]
    }
   ],
   "source": [
    "scaler.fit(df.Age)\n",
    "df.Age = scaler.transform(df.Age)\n",
    "df"
   ]
  },
  {
   "cell_type": "code",
   "execution_count": 31,
   "metadata": {},
   "outputs": [
    {
     "data": {
      "text/plain": [
       "array([0, 0, 0, 0, 0, 0, 0, 0, 0, 0, 0, 0, 0, 0, 0, 0, 0, 0, 0, 0, 0, 0,\n",
       "       0, 0, 0, 0, 0, 0, 0, 0, 0, 0, 0, 0, 0, 0, 0, 0, 0, 0, 0, 0, 0, 0,\n",
       "       0, 0, 0, 0, 0, 0, 0, 0, 0, 0, 0, 0, 0, 0, 0, 0, 0, 0, 0, 0, 0, 0,\n",
       "       0, 0, 0, 0, 0, 0, 0, 0, 0, 0, 0, 0, 0, 0, 0, 0, 0, 0, 0, 0, 0, 0,\n",
       "       0, 0, 0, 0, 0, 0, 0, 0, 0, 0, 0, 0, 0, 0, 0, 0, 0, 0, 0, 0, 0, 0,\n",
       "       0, 0, 0, 0, 0, 0, 0, 0, 0, 0, 0, 0, 0, 0, 0, 0, 0, 0, 0, 0, 0, 0,\n",
       "       0, 0, 0, 0, 0, 0, 0, 0, 0, 0, 0, 0, 0, 0, 0, 0, 0, 0, 0, 0, 0, 0,\n",
       "       0, 0, 0, 0, 0, 0, 0, 0, 0, 0, 0, 0, 0, 0, 0, 0, 0, 0, 0, 0, 0, 0,\n",
       "       0, 0, 0, 0, 0, 0, 0, 0, 0, 0, 0, 0, 0, 0, 0, 0, 0, 0, 0, 0, 0, 0,\n",
       "       0, 0, 0, 0, 0, 0, 0, 0, 0, 0, 0, 0, 0, 0, 0, 0, 0, 0, 0, 0, 0, 0,\n",
       "       0, 0, 0, 0, 0, 0, 0, 0, 0, 0, 0, 0, 0, 0, 0, 0, 0, 0, 0, 0, 0, 0,\n",
       "       0, 0, 0, 0, 0, 0, 0, 0, 0, 0, 0, 0, 0, 0, 0, 0, 0, 0, 0, 0, 0, 0,\n",
       "       0, 0, 0, 0, 0, 0, 0, 0, 0, 0, 0, 0, 0, 0, 0, 0, 0, 0, 0, 0, 0, 0,\n",
       "       0, 0, 0, 0, 0, 0, 0, 0, 0, 0, 0, 1, 0, 1, 1, 1, 1, 0, 1, 1, 1, 1,\n",
       "       1, 0, 1, 1, 1, 1, 1, 1, 0, 0, 1, 1, 1, 1, 1, 1, 0, 1, 0, 0, 0, 0,\n",
       "       0, 0, 0, 0, 0, 0, 0, 0, 0, 0, 0, 0, 0, 0, 0, 0, 0, 0, 0, 0, 0, 0,\n",
       "       0, 0, 0, 0, 0, 0, 0, 0, 0, 0, 0, 0, 0, 0, 0, 0, 0, 0, 0, 0, 0, 0,\n",
       "       1, 0, 0, 1, 0, 0, 0, 0, 0, 0, 0, 0, 0, 0, 0, 0, 0, 0, 0, 0, 1, 0,\n",
       "       0, 0, 1, 0, 0, 1, 0, 0, 1, 0, 0, 0, 0, 1, 0, 0, 0, 0, 0, 0, 1, 0,\n",
       "       0, 1, 1, 0, 0, 1, 0, 0, 1, 0, 1, 1, 1, 0, 0, 0, 1, 1, 0, 0, 1, 0,\n",
       "       0, 0, 0, 0, 1, 1, 1, 0, 1, 1, 0, 1, 1, 0, 1, 1, 1, 0, 0, 1, 0, 1,\n",
       "       0, 0, 0, 0, 1, 0, 0, 0, 0, 0, 0, 1, 0, 0, 1, 0, 0, 0, 1, 0, 0, 0,\n",
       "       1, 0, 0, 0, 0, 0, 0, 0, 1, 0, 0, 0, 1, 0, 0, 0, 0, 1, 1, 0, 1, 0,\n",
       "       0, 1, 0, 1, 0, 0, 0, 1, 0, 0, 0, 0, 0, 0, 0, 0, 1, 0, 0, 0, 0, 0,\n",
       "       0, 0, 0, 0, 0, 0, 0, 0, 0, 1, 0, 0, 0, 0, 0, 0, 0, 0, 0, 0, 0, 0,\n",
       "       0, 0, 0, 0, 0, 0, 0, 0, 0, 0, 0, 0, 0, 0, 1, 1, 0, 0, 0, 0, 0, 0,\n",
       "       1, 0, 0, 0, 1, 0, 0, 0, 0, 0, 0, 0, 0, 0, 0, 0, 0, 0, 0, 1, 1, 0,\n",
       "       0, 0, 0, 0, 0, 0, 0, 0, 1, 0, 0, 0, 0, 0, 0, 1, 0, 1, 0, 0, 1, 0,\n",
       "       1, 0, 1, 1, 1, 0, 0, 1, 1, 0, 2, 1, 0, 1, 0, 0, 0, 1, 0, 0, 0, 1,\n",
       "       0, 0, 1, 1, 1, 0, 1, 1, 0, 0, 1, 0, 1, 0, 0, 0, 0, 0, 0, 1, 0, 0,\n",
       "       0, 0, 0, 0, 0, 0, 0, 0, 0, 0, 0, 0, 0, 0, 0, 0, 0, 0, 0, 0, 1, 0,\n",
       "       0, 1, 0, 1, 1])"
      ]
     },
     "execution_count": 31,
     "metadata": {},
     "output_type": "execute_result"
    }
   ],
   "source": [
    "km = KMeans(n_clusters=3)\n",
    "y_predicted = km.fit_predict(df[['Age','Sales']])\n",
    "y_predicted"
   ]
  },
  {
   "cell_type": "code",
   "execution_count": 33,
   "metadata": {},
   "outputs": [
    {
     "data": {
      "text/html": [
       "<div>\n",
       "<style scoped>\n",
       "    .dataframe tbody tr th:only-of-type {\n",
       "        vertical-align: middle;\n",
       "    }\n",
       "\n",
       "    .dataframe tbody tr th {\n",
       "        vertical-align: top;\n",
       "    }\n",
       "\n",
       "    .dataframe thead th {\n",
       "        text-align: right;\n",
       "    }\n",
       "</style>\n",
       "<table border=\"1\" class=\"dataframe\">\n",
       "  <thead>\n",
       "    <tr style=\"text-align: right;\">\n",
       "      <th></th>\n",
       "      <th>Date</th>\n",
       "      <th>Name</th>\n",
       "      <th>Sales</th>\n",
       "      <th>Order Number</th>\n",
       "      <th>Age</th>\n",
       "      <th>Gender</th>\n",
       "    </tr>\n",
       "  </thead>\n",
       "  <tbody>\n",
       "    <tr>\n",
       "      <th>0</th>\n",
       "      <td>01/03/2021</td>\n",
       "      <td>Zee Mawere</td>\n",
       "      <td>3599.00</td>\n",
       "      <td>3988</td>\n",
       "      <td>35</td>\n",
       "      <td>M</td>\n",
       "    </tr>\n",
       "    <tr>\n",
       "      <th>1</th>\n",
       "      <td>04/03/2021</td>\n",
       "      <td>Natalie Mill</td>\n",
       "      <td>2999.00</td>\n",
       "      <td>3992</td>\n",
       "      <td>23</td>\n",
       "      <td>F</td>\n",
       "    </tr>\n",
       "    <tr>\n",
       "      <th>2</th>\n",
       "      <td>04/03/2021</td>\n",
       "      <td>Patrick Dodzo</td>\n",
       "      <td>3834.84</td>\n",
       "      <td>3994</td>\n",
       "      <td>45</td>\n",
       "      <td>M</td>\n",
       "    </tr>\n",
       "    <tr>\n",
       "      <th>3</th>\n",
       "      <td>04/03/2021</td>\n",
       "      <td>Shadey White</td>\n",
       "      <td>497.96</td>\n",
       "      <td>3991</td>\n",
       "      <td>29</td>\n",
       "      <td>F</td>\n",
       "    </tr>\n",
       "    <tr>\n",
       "      <th>4</th>\n",
       "      <td>06/03/2021</td>\n",
       "      <td>Bertha Anglo</td>\n",
       "      <td>5996.68</td>\n",
       "      <td>4000</td>\n",
       "      <td>21</td>\n",
       "      <td>F</td>\n",
       "    </tr>\n",
       "    <tr>\n",
       "      <th>...</th>\n",
       "      <td>...</td>\n",
       "      <td>...</td>\n",
       "      <td>...</td>\n",
       "      <td>...</td>\n",
       "      <td>...</td>\n",
       "      <td>...</td>\n",
       "    </tr>\n",
       "    <tr>\n",
       "      <th>682</th>\n",
       "      <td>31/08/2021</td>\n",
       "      <td>Dzi Dza</td>\n",
       "      <td>9288.06</td>\n",
       "      <td>5404</td>\n",
       "      <td>32</td>\n",
       "      <td>M</td>\n",
       "    </tr>\n",
       "    <tr>\n",
       "      <th>683</th>\n",
       "      <td>31/08/2021</td>\n",
       "      <td>Leigh Benny</td>\n",
       "      <td>79180.67</td>\n",
       "      <td>5401</td>\n",
       "      <td>31</td>\n",
       "      <td>F</td>\n",
       "    </tr>\n",
       "    <tr>\n",
       "      <th>684</th>\n",
       "      <td>31/08/2021</td>\n",
       "      <td>Never Lose</td>\n",
       "      <td>9000.84</td>\n",
       "      <td>5400</td>\n",
       "      <td>32</td>\n",
       "      <td>M</td>\n",
       "    </tr>\n",
       "    <tr>\n",
       "      <th>685</th>\n",
       "      <td>31/08/2021</td>\n",
       "      <td>One Winner</td>\n",
       "      <td>60399.04</td>\n",
       "      <td>5398</td>\n",
       "      <td>49</td>\n",
       "      <td>F</td>\n",
       "    </tr>\n",
       "    <tr>\n",
       "      <th>686</th>\n",
       "      <td>31/08/2021</td>\n",
       "      <td>Ta Zviona</td>\n",
       "      <td>90711.36</td>\n",
       "      <td>5403</td>\n",
       "      <td>43</td>\n",
       "      <td>F</td>\n",
       "    </tr>\n",
       "  </tbody>\n",
       "</table>\n",
       "<p>687 rows × 6 columns</p>\n",
       "</div>"
      ],
      "text/plain": [
       "           Date           Name     Sales  Order Number  Age Gender\n",
       "0    01/03/2021     Zee Mawere   3599.00          3988   35      M\n",
       "1    04/03/2021   Natalie Mill   2999.00          3992   23      F\n",
       "2    04/03/2021  Patrick Dodzo   3834.84          3994   45      M\n",
       "3    04/03/2021   Shadey White    497.96          3991   29      F\n",
       "4    06/03/2021   Bertha Anglo   5996.68          4000   21      F\n",
       "..          ...            ...       ...           ...  ...    ...\n",
       "682  31/08/2021        Dzi Dza   9288.06          5404   32      M\n",
       "683  31/08/2021    Leigh Benny  79180.67          5401   31      F\n",
       "684  31/08/2021     Never Lose   9000.84          5400   32      M\n",
       "685  31/08/2021     One Winner  60399.04          5398   49      F\n",
       "686  31/08/2021      Ta Zviona  90711.36          5403   43      F\n",
       "\n",
       "[687 rows x 6 columns]"
      ]
     },
     "execution_count": 33,
     "metadata": {},
     "output_type": "execute_result"
    }
   ],
   "source": [
    "df['cluster'] = y_predicted\n",
    "df.drop('cluster',axis='columns',inplace=True)\n",
    "df"
   ]
  },
  {
   "cell_type": "code",
   "execution_count": 34,
   "metadata": {},
   "outputs": [
    {
     "data": {
      "text/plain": [
       "array([[3.39402730e+01, 3.33590362e+03],\n",
       "       [3.66300000e+01, 5.39979547e+04],\n",
       "       [4.00000000e+01, 2.00800000e+05]])"
      ]
     },
     "execution_count": 34,
     "metadata": {},
     "output_type": "execute_result"
    }
   ],
   "source": [
    "km.cluster_centers_"
   ]
  },
  {
   "cell_type": "markdown",
   "metadata": {},
   "source": [
    "Elbow method for many features Sum of Squares Error"
   ]
  },
  {
   "cell_type": "code",
   "execution_count": 35,
   "metadata": {},
   "outputs": [],
   "source": [
    "k_rng = range(1,3)\n",
    "sse = []\n",
    "for k in k_rng:\n",
    "    km = KMeans(n_clusters=k)\n",
    "    km.fit(df[['Age','Sales']])\n",
    "    sse.append(km.inertia_)"
   ]
  },
  {
   "cell_type": "code",
   "execution_count": 36,
   "metadata": {},
   "outputs": [
    {
     "data": {
      "text/plain": [
       "[277851883821.34045, 43862214968.251236]"
      ]
     },
     "execution_count": 36,
     "metadata": {},
     "output_type": "execute_result"
    }
   ],
   "source": [
    "sse"
   ]
  },
  {
   "cell_type": "code",
   "execution_count": 37,
   "metadata": {},
   "outputs": [
    {
     "data": {
      "text/plain": [
       "[<matplotlib.lines.Line2D at 0x254fca41748>]"
      ]
     },
     "execution_count": 37,
     "metadata": {},
     "output_type": "execute_result"
    },
    {
     "data": {
      "image/png": "[encoded data removed]",
      "text/plain": [
       "<Figure size 432x288 with 1 Axes>"
      ]
     },
     "metadata": {
      "needs_background": "light"
     },
     "output_type": "display_data"
    }
   ],
   "source": [
    "plt.xlabel('K')\n",
    "plt.ylabel('Sum of squred error')\n",
    "plt.plot(k_rng,sse)"
   ]
  },
  {
   "cell_type": "code",
   "execution_count": null,
   "metadata": {},
   "outputs": [],
   "source": []
  }
 ],
 "metadata": {
  "kernelspec": {
   "display_name": "Python 3",
   "language": "python",
   "name": "python3"
  },
  "language_info": {
   "codemirror_mode": {
    "name": "ipython",
    "version": 3
   },
   "file_extension": ".py",
   "mimetype": "text/x-python",
   "name": "python",
   "nbconvert_exporter": "python",
   "pygments_lexer": "ipython3",
   "version": "3.7.6"
  }
 },
 "nbformat": 4,
 "nbformat_minor": 4
}
